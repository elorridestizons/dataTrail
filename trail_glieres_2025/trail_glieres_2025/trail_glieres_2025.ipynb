{
 "cells": [
  {
   "cell_type": "markdown",
   "metadata": {},
   "source": [
    "# Trail des Glières"
   ]
  },
  {
   "cell_type": "markdown",
   "metadata": {},
   "source": [
    "# Libraries"
   ]
  },
  {
   "cell_type": "code",
   "execution_count": 1,
   "metadata": {},
   "outputs": [],
   "source": [
    "import pandas as pd\n",
    "import numpy as np\n",
    "\n",
    "import re\n",
    "import datetime\n",
    "\n",
    "# Graphs\n",
    "import matplotlib\n",
    "import matplotlib.pyplot as plt\n",
    "import matplotlib.ticker as ticker\n",
    "from matplotlib.patches import Patch\n",
    "import seaborn as sns\n",
    "\n",
    "# Ignore warnings\n",
    "import warnings\n",
    "warnings.filterwarnings(\"ignore\")"
   ]
  },
  {
   "cell_type": "markdown",
   "metadata": {},
   "source": [
    "# Import files"
   ]
  },
  {
   "cell_type": "code",
   "execution_count": 2,
   "metadata": {},
   "outputs": [],
   "source": [
    "resultats_21km_duo = pd.read_csv('resultats_21km_duo.csv',sep=';')\n",
    "resultats_21km_solo = pd.read_csv('resultats_21km_solo.csv',sep=';')"
   ]
  },
  {
   "cell_type": "code",
   "execution_count": 3,
   "metadata": {},
   "outputs": [],
   "source": [
    "# Clean and delete last 6 rows\n",
    "resultats_21km_solo = resultats_21km_solo[:-6]"
   ]
  },
  {
   "cell_type": "markdown",
   "metadata": {},
   "source": [
    "# Create a unique dataframe"
   ]
  },
  {
   "cell_type": "code",
   "execution_count": 4,
   "metadata": {},
   "outputs": [],
   "source": [
    "# Add a new column 'Type' to each dataframe\n",
    "resultats_21km_duo['Type'] = 'duo'\n",
    "resultats_21km_solo['Type'] = 'solo'"
   ]
  },
  {
   "cell_type": "code",
   "execution_count": 5,
   "metadata": {},
   "outputs": [
    {
     "data": {
      "text/html": [
       "<div>\n",
       "<style scoped>\n",
       "    .dataframe tbody tr th:only-of-type {\n",
       "        vertical-align: middle;\n",
       "    }\n",
       "\n",
       "    .dataframe tbody tr th {\n",
       "        vertical-align: top;\n",
       "    }\n",
       "\n",
       "    .dataframe thead th {\n",
       "        text-align: right;\n",
       "    }\n",
       "</style>\n",
       "<table border=\"1\" class=\"dataframe\">\n",
       "  <thead>\n",
       "    <tr style=\"text-align: right;\">\n",
       "      <th></th>\n",
       "      <th>Pl.</th>\n",
       "      <th>Dos</th>\n",
       "      <th>Unnamed: 2</th>\n",
       "      <th>Nom</th>\n",
       "      <th>Club</th>\n",
       "      <th>Sx</th>\n",
       "      <th>Cat</th>\n",
       "      <th>Par cat.</th>\n",
       "      <th>Sous Dine</th>\n",
       "      <th>Landron</th>\n",
       "      <th>Pré Arrivée</th>\n",
       "      <th>Temps</th>\n",
       "      <th>Ecart</th>\n",
       "      <th>Moy</th>\n",
       "      <th>Type</th>\n",
       "    </tr>\n",
       "  </thead>\n",
       "  <tbody>\n",
       "    <tr>\n",
       "      <th>0</th>\n",
       "      <td>1</td>\n",
       "      <td>2120</td>\n",
       "      <td>FRA</td>\n",
       "      <td>FICHEUX Enzo</td>\n",
       "      <td>NaN</td>\n",
       "      <td>Homme</td>\n",
       "      <td>S-M0H</td>\n",
       "      <td>1.0</td>\n",
       "      <td>01:16:34</td>\n",
       "      <td>01:30:15</td>\n",
       "      <td>01:56:45</td>\n",
       "      <td>01:58:37</td>\n",
       "      <td>NaN</td>\n",
       "      <td>10,6</td>\n",
       "      <td>solo</td>\n",
       "    </tr>\n",
       "    <tr>\n",
       "      <th>1</th>\n",
       "      <td>2</td>\n",
       "      <td>2035</td>\n",
       "      <td>FRA</td>\n",
       "      <td>GENAND Leo</td>\n",
       "      <td>ARVE ATHLÉTISME</td>\n",
       "      <td>Homme</td>\n",
       "      <td>S-M0H</td>\n",
       "      <td>2.0</td>\n",
       "      <td>01:16:08</td>\n",
       "      <td>01:31:04</td>\n",
       "      <td>01:59:03</td>\n",
       "      <td>02:00:41</td>\n",
       "      <td>+02:04</td>\n",
       "      <td>10,4</td>\n",
       "      <td>solo</td>\n",
       "    </tr>\n",
       "    <tr>\n",
       "      <th>2</th>\n",
       "      <td>3</td>\n",
       "      <td>2246</td>\n",
       "      <td>FRA</td>\n",
       "      <td>THIVOLET Mattéo</td>\n",
       "      <td>ENTENTE ARVE ATHLÉTISME</td>\n",
       "      <td>Homme</td>\n",
       "      <td>S-M0H</td>\n",
       "      <td>3.0</td>\n",
       "      <td>01:26:08</td>\n",
       "      <td>01:41:34</td>\n",
       "      <td>02:09:44</td>\n",
       "      <td>02:11:25</td>\n",
       "      <td>+12:48</td>\n",
       "      <td>9,6</td>\n",
       "      <td>solo</td>\n",
       "    </tr>\n",
       "    <tr>\n",
       "      <th>3</th>\n",
       "      <td>4</td>\n",
       "      <td>2146</td>\n",
       "      <td>FRA</td>\n",
       "      <td>BLAZER Tanguy</td>\n",
       "      <td>NaN</td>\n",
       "      <td>Homme</td>\n",
       "      <td>S-M0H</td>\n",
       "      <td>4.0</td>\n",
       "      <td>01:27:14</td>\n",
       "      <td>01:43:10</td>\n",
       "      <td>02:12:07</td>\n",
       "      <td>02:13:59</td>\n",
       "      <td>+15:22</td>\n",
       "      <td>9,4</td>\n",
       "      <td>solo</td>\n",
       "    </tr>\n",
       "    <tr>\n",
       "      <th>4</th>\n",
       "      <td>5</td>\n",
       "      <td>2240</td>\n",
       "      <td>FRA</td>\n",
       "      <td>HURTAULT Romain</td>\n",
       "      <td>NaN</td>\n",
       "      <td>Homme</td>\n",
       "      <td>M1-5H</td>\n",
       "      <td>1.0</td>\n",
       "      <td>01:28:15</td>\n",
       "      <td>01:43:50</td>\n",
       "      <td>02:14:41</td>\n",
       "      <td>02:16:37</td>\n",
       "      <td>+18:00</td>\n",
       "      <td>9,2</td>\n",
       "      <td>solo</td>\n",
       "    </tr>\n",
       "  </tbody>\n",
       "</table>\n",
       "</div>"
      ],
      "text/plain": [
       "  Pl.   Dos Unnamed: 2              Nom                     Club     Sx  \\\n",
       "0   1  2120        FRA     FICHEUX Enzo                      NaN  Homme   \n",
       "1   2  2035        FRA       GENAND Leo          ARVE ATHLÉTISME  Homme   \n",
       "2   3  2246        FRA  THIVOLET Mattéo  ENTENTE ARVE ATHLÉTISME  Homme   \n",
       "3   4  2146        FRA    BLAZER Tanguy                      NaN  Homme   \n",
       "4   5  2240        FRA  HURTAULT Romain                      NaN  Homme   \n",
       "\n",
       "     Cat  Par cat. Sous Dine   Landron Pré Arrivée     Temps   Ecart   Moy  \\\n",
       "0  S-M0H       1.0  01:16:34  01:30:15    01:56:45  01:58:37     NaN  10,6   \n",
       "1  S-M0H       2.0  01:16:08  01:31:04    01:59:03  02:00:41  +02:04  10,4   \n",
       "2  S-M0H       3.0  01:26:08  01:41:34    02:09:44  02:11:25  +12:48   9,6   \n",
       "3  S-M0H       4.0  01:27:14  01:43:10    02:12:07  02:13:59  +15:22   9,4   \n",
       "4  M1-5H       1.0  01:28:15  01:43:50    02:14:41  02:16:37  +18:00   9,2   \n",
       "\n",
       "   Type  \n",
       "0  solo  \n",
       "1  solo  \n",
       "2  solo  \n",
       "3  solo  \n",
       "4  solo  "
      ]
     },
     "execution_count": 5,
     "metadata": {},
     "output_type": "execute_result"
    }
   ],
   "source": [
    "# Combine resultats_21km_duo and resultats_21km_solo into a single dataframe\n",
    "df = pd.concat([resultats_21km_solo, resultats_21km_duo], ignore_index=True)\n",
    "df.head()"
   ]
  },
  {
   "cell_type": "code",
   "execution_count": 6,
   "metadata": {},
   "outputs": [],
   "source": [
    "# Rename unnamed column\n",
    "df = df.rename(columns={'Unnamed: 2': 'Nationalite'})"
   ]
  },
  {
   "cell_type": "markdown",
   "metadata": {},
   "source": [
    "# 0. Data Quality"
   ]
  },
  {
   "cell_type": "markdown",
   "metadata": {},
   "source": [
    "## General information"
   ]
  },
  {
   "cell_type": "code",
   "execution_count": 7,
   "metadata": {},
   "outputs": [
    {
     "name": "stdout",
     "output_type": "stream",
     "text": [
      "<class 'pandas.core.frame.DataFrame'>\n",
      "RangeIndex: 349 entries, 0 to 348\n",
      "Data columns (total 15 columns):\n",
      " #   Column       Non-Null Count  Dtype  \n",
      "---  ------       --------------  -----  \n",
      " 0   Pl.          349 non-null    object \n",
      " 1   Dos          349 non-null    int64  \n",
      " 2   Nationalite  349 non-null    object \n",
      " 3   Nom          349 non-null    object \n",
      " 4   Club         69 non-null     object \n",
      " 5   Sx           349 non-null    object \n",
      " 6   Cat          349 non-null    object \n",
      " 7   Par cat.     349 non-null    float64\n",
      " 8   Sous Dine    344 non-null    object \n",
      " 9   Landron      346 non-null    object \n",
      " 10  Pré Arrivée  345 non-null    object \n",
      " 11  Temps        349 non-null    object \n",
      " 12  Ecart        347 non-null    object \n",
      " 13  Moy          349 non-null    object \n",
      " 14  Type         349 non-null    object \n",
      "dtypes: float64(1), int64(1), object(13)\n",
      "memory usage: 41.0+ KB\n"
     ]
    }
   ],
   "source": [
    "df.info()"
   ]
  },
  {
   "cell_type": "markdown",
   "metadata": {},
   "source": [
    "## Data type"
   ]
  },
  {
   "cell_type": "code",
   "execution_count": 8,
   "metadata": {},
   "outputs": [],
   "source": [
    "# Modify data type of 'Pl.' and 'Par cat.' columns to integer\n",
    "df[\"Pl.\"] = pd.to_numeric(df[\"Pl.\"], errors=\"coerce\").astype(\"Int64\")\n",
    "df[\"Par cat.\"] = pd.to_numeric(df[\"Par cat.\"], errors=\"coerce\").astype(\"Int64\")"
   ]
  },
  {
   "cell_type": "code",
   "execution_count": 9,
   "metadata": {},
   "outputs": [],
   "source": [
    "# Modify data type of time columns to timedelta\n",
    "df[\"Sous Dine\"] = pd.to_timedelta(df[\"Sous Dine\"], errors=\"coerce\")\n",
    "df[\"Landron\"] = pd.to_timedelta(df[\"Landron\"], errors=\"coerce\")\n",
    "df[\"Pré Arrivée\"] = pd.to_timedelta(df[\"Pré Arrivée\"], errors=\"coerce\")\n",
    "df[\"Temps\"] = pd.to_timedelta(df[\"Temps\"], errors=\"coerce\")"
   ]
  },
  {
   "cell_type": "code",
   "execution_count": 10,
   "metadata": {},
   "outputs": [],
   "source": [
    "def pad_time(val):\n",
    "    if pd.isna(val):\n",
    "        return val\n",
    "    val = val.replace(\"+\", \"\")\n",
    "    # If format is MM:SS (no hours), pad with 00:\n",
    "    if re.fullmatch(r\"\\d{1,2}:\\d{2}\", val):\n",
    "        return \"00:\" + val\n",
    "    return val"
   ]
  },
  {
   "cell_type": "code",
   "execution_count": 11,
   "metadata": {},
   "outputs": [],
   "source": [
    "# Convert 'Ecart' to timedelta\n",
    "df[\"Ecart\"] = df[\"Ecart\"].apply(pad_time)\n",
    "df[\"Ecart\"] = pd.to_timedelta(df[\"Ecart\"], errors=\"coerce\")"
   ]
  },
  {
   "cell_type": "code",
   "execution_count": 12,
   "metadata": {},
   "outputs": [],
   "source": [
    "# Replace comma with dot and convert to float\n",
    "df[\"Moy\"] = pd.to_numeric(df[\"Moy\"].str.replace(\",\", \".\", regex=False), errors=\"coerce\").astype(float)"
   ]
  },
  {
   "cell_type": "code",
   "execution_count": 13,
   "metadata": {},
   "outputs": [],
   "source": [
    "# Add a new column with the time and Ecart in seconds\n",
    "df['Temps_sec'] = df['Temps'].dt.total_seconds().astype(int)\n",
    "df['Ecart_sec'] = df['Ecart'].dt.total_seconds().astype('Int64')"
   ]
  },
  {
   "cell_type": "markdown",
   "metadata": {},
   "source": [
    "## Missing data"
   ]
  },
  {
   "cell_type": "code",
   "execution_count": 14,
   "metadata": {},
   "outputs": [
    {
     "data": {
      "text/plain": [
       "Pl.              0\n",
       "Dos              0\n",
       "Nationalite      0\n",
       "Nom              0\n",
       "Club           280\n",
       "Sx               0\n",
       "Cat              0\n",
       "Par cat.         0\n",
       "Sous Dine        5\n",
       "Landron          3\n",
       "Pré Arrivée      4\n",
       "Temps            0\n",
       "Ecart            2\n",
       "Moy              0\n",
       "Type             0\n",
       "Temps_sec        0\n",
       "Ecart_sec        2\n",
       "dtype: int64"
      ]
     },
     "execution_count": 14,
     "metadata": {},
     "output_type": "execute_result"
    }
   ],
   "source": [
    "df.isna().sum()"
   ]
  },
  {
   "cell_type": "code",
   "execution_count": 15,
   "metadata": {},
   "outputs": [
    {
     "data": {
      "text/html": [
       "<div>\n",
       "<style scoped>\n",
       "    .dataframe tbody tr th:only-of-type {\n",
       "        vertical-align: middle;\n",
       "    }\n",
       "\n",
       "    .dataframe tbody tr th {\n",
       "        vertical-align: top;\n",
       "    }\n",
       "\n",
       "    .dataframe thead th {\n",
       "        text-align: right;\n",
       "    }\n",
       "</style>\n",
       "<table border=\"1\" class=\"dataframe\">\n",
       "  <thead>\n",
       "    <tr style=\"text-align: right;\">\n",
       "      <th></th>\n",
       "      <th>Pl.</th>\n",
       "      <th>Dos</th>\n",
       "      <th>Nationalite</th>\n",
       "      <th>Nom</th>\n",
       "      <th>Club</th>\n",
       "      <th>Sx</th>\n",
       "      <th>Cat</th>\n",
       "      <th>Par cat.</th>\n",
       "      <th>Sous Dine</th>\n",
       "      <th>Landron</th>\n",
       "      <th>Pré Arrivée</th>\n",
       "      <th>Temps</th>\n",
       "      <th>Ecart</th>\n",
       "      <th>Moy</th>\n",
       "      <th>Type</th>\n",
       "      <th>Temps_sec</th>\n",
       "      <th>Ecart_sec</th>\n",
       "    </tr>\n",
       "  </thead>\n",
       "  <tbody>\n",
       "    <tr>\n",
       "      <th>0</th>\n",
       "      <td>1</td>\n",
       "      <td>2120</td>\n",
       "      <td>FRA</td>\n",
       "      <td>FICHEUX Enzo</td>\n",
       "      <td>NaN</td>\n",
       "      <td>Homme</td>\n",
       "      <td>S-M0H</td>\n",
       "      <td>1</td>\n",
       "      <td>0 days 01:16:34</td>\n",
       "      <td>0 days 01:30:15</td>\n",
       "      <td>0 days 01:56:45</td>\n",
       "      <td>0 days 01:58:37</td>\n",
       "      <td>NaT</td>\n",
       "      <td>10.6</td>\n",
       "      <td>solo</td>\n",
       "      <td>7117</td>\n",
       "      <td>&lt;NA&gt;</td>\n",
       "    </tr>\n",
       "    <tr>\n",
       "      <th>222</th>\n",
       "      <td>1</td>\n",
       "      <td>2626</td>\n",
       "      <td>FRA</td>\n",
       "      <td>LOBRY Josué / VESSE Maxime</td>\n",
       "      <td>ANNECY ATHLÉTISME</td>\n",
       "      <td>Homme</td>\n",
       "      <td>HOM</td>\n",
       "      <td>1</td>\n",
       "      <td>0 days 01:26:19</td>\n",
       "      <td>0 days 01:41:55</td>\n",
       "      <td>0 days 02:11:00</td>\n",
       "      <td>0 days 02:12:53</td>\n",
       "      <td>NaT</td>\n",
       "      <td>9.5</td>\n",
       "      <td>duo</td>\n",
       "      <td>7973</td>\n",
       "      <td>&lt;NA&gt;</td>\n",
       "    </tr>\n",
       "  </tbody>\n",
       "</table>\n",
       "</div>"
      ],
      "text/plain": [
       "     Pl.   Dos Nationalite                         Nom               Club  \\\n",
       "0      1  2120         FRA                FICHEUX Enzo                NaN   \n",
       "222    1  2626         FRA  LOBRY Josué / VESSE Maxime  ANNECY ATHLÉTISME   \n",
       "\n",
       "        Sx    Cat  Par cat.       Sous Dine         Landron     Pré Arrivée  \\\n",
       "0    Homme  S-M0H         1 0 days 01:16:34 0 days 01:30:15 0 days 01:56:45   \n",
       "222  Homme    HOM         1 0 days 01:26:19 0 days 01:41:55 0 days 02:11:00   \n",
       "\n",
       "              Temps Ecart   Moy  Type  Temps_sec  Ecart_sec  \n",
       "0   0 days 01:58:37   NaT  10.6  solo       7117       <NA>  \n",
       "222 0 days 02:12:53   NaT   9.5   duo       7973       <NA>  "
      ]
     },
     "execution_count": 15,
     "metadata": {},
     "output_type": "execute_result"
    }
   ],
   "source": [
    "# Check missing values\n",
    "df[df['Ecart'].isnull()]"
   ]
  },
  {
   "cell_type": "markdown",
   "metadata": {},
   "source": [
    "Missing \"Ecart\" values correspond to the first of each group (solo / duo)"
   ]
  },
  {
   "cell_type": "markdown",
   "metadata": {},
   "source": [
    "## Description des données"
   ]
  },
  {
   "cell_type": "code",
   "execution_count": 16,
   "metadata": {},
   "outputs": [
    {
     "data": {
      "text/html": [
       "<div>\n",
       "<style scoped>\n",
       "    .dataframe tbody tr th:only-of-type {\n",
       "        vertical-align: middle;\n",
       "    }\n",
       "\n",
       "    .dataframe tbody tr th {\n",
       "        vertical-align: top;\n",
       "    }\n",
       "\n",
       "    .dataframe thead th {\n",
       "        text-align: right;\n",
       "    }\n",
       "</style>\n",
       "<table border=\"1\" class=\"dataframe\">\n",
       "  <thead>\n",
       "    <tr style=\"text-align: right;\">\n",
       "      <th></th>\n",
       "      <th>Pl.</th>\n",
       "      <th>Dos</th>\n",
       "      <th>Nationalite</th>\n",
       "      <th>Nom</th>\n",
       "      <th>Club</th>\n",
       "      <th>Sx</th>\n",
       "      <th>Cat</th>\n",
       "      <th>Par cat.</th>\n",
       "      <th>Sous Dine</th>\n",
       "      <th>Landron</th>\n",
       "      <th>Pré Arrivée</th>\n",
       "      <th>Temps</th>\n",
       "      <th>Ecart</th>\n",
       "      <th>Moy</th>\n",
       "      <th>Type</th>\n",
       "      <th>Temps_sec</th>\n",
       "      <th>Ecart_sec</th>\n",
       "    </tr>\n",
       "  </thead>\n",
       "  <tbody>\n",
       "    <tr>\n",
       "      <th>count</th>\n",
       "      <td>349.0</td>\n",
       "      <td>349.000000</td>\n",
       "      <td>349</td>\n",
       "      <td>349</td>\n",
       "      <td>69</td>\n",
       "      <td>349</td>\n",
       "      <td>349</td>\n",
       "      <td>349.0</td>\n",
       "      <td>344</td>\n",
       "      <td>346</td>\n",
       "      <td>345</td>\n",
       "      <td>349</td>\n",
       "      <td>347</td>\n",
       "      <td>349.000000</td>\n",
       "      <td>349</td>\n",
       "      <td>349.000000</td>\n",
       "      <td>347.0</td>\n",
       "    </tr>\n",
       "    <tr>\n",
       "      <th>unique</th>\n",
       "      <td>&lt;NA&gt;</td>\n",
       "      <td>NaN</td>\n",
       "      <td>8</td>\n",
       "      <td>349</td>\n",
       "      <td>52</td>\n",
       "      <td>3</td>\n",
       "      <td>10</td>\n",
       "      <td>&lt;NA&gt;</td>\n",
       "      <td>NaN</td>\n",
       "      <td>NaN</td>\n",
       "      <td>NaN</td>\n",
       "      <td>NaN</td>\n",
       "      <td>NaN</td>\n",
       "      <td>NaN</td>\n",
       "      <td>2</td>\n",
       "      <td>NaN</td>\n",
       "      <td>&lt;NA&gt;</td>\n",
       "    </tr>\n",
       "    <tr>\n",
       "      <th>top</th>\n",
       "      <td>&lt;NA&gt;</td>\n",
       "      <td>NaN</td>\n",
       "      <td>FRA</td>\n",
       "      <td>FICHEUX Enzo</td>\n",
       "      <td>SALÈVE TRAIL</td>\n",
       "      <td>Homme</td>\n",
       "      <td>S-M0H</td>\n",
       "      <td>&lt;NA&gt;</td>\n",
       "      <td>NaN</td>\n",
       "      <td>NaN</td>\n",
       "      <td>NaN</td>\n",
       "      <td>NaN</td>\n",
       "      <td>NaN</td>\n",
       "      <td>NaN</td>\n",
       "      <td>solo</td>\n",
       "      <td>NaN</td>\n",
       "      <td>&lt;NA&gt;</td>\n",
       "    </tr>\n",
       "    <tr>\n",
       "      <th>freq</th>\n",
       "      <td>&lt;NA&gt;</td>\n",
       "      <td>NaN</td>\n",
       "      <td>338</td>\n",
       "      <td>1</td>\n",
       "      <td>6</td>\n",
       "      <td>177</td>\n",
       "      <td>83</td>\n",
       "      <td>&lt;NA&gt;</td>\n",
       "      <td>NaN</td>\n",
       "      <td>NaN</td>\n",
       "      <td>NaN</td>\n",
       "      <td>NaN</td>\n",
       "      <td>NaN</td>\n",
       "      <td>NaN</td>\n",
       "      <td>222</td>\n",
       "      <td>NaN</td>\n",
       "      <td>&lt;NA&gt;</td>\n",
       "    </tr>\n",
       "    <tr>\n",
       "      <th>mean</th>\n",
       "      <td>94.2149</td>\n",
       "      <td>2299.435530</td>\n",
       "      <td>NaN</td>\n",
       "      <td>NaN</td>\n",
       "      <td>NaN</td>\n",
       "      <td>NaN</td>\n",
       "      <td>NaN</td>\n",
       "      <td>28.017192</td>\n",
       "      <td>0 days 02:11:34.276162790</td>\n",
       "      <td>0 days 02:39:49.945086705</td>\n",
       "      <td>0 days 03:32:16.202898550</td>\n",
       "      <td>0 days 03:34:50.214899713</td>\n",
       "      <td>0 days 01:31:33.198847262</td>\n",
       "      <td>6.064470</td>\n",
       "      <td>NaN</td>\n",
       "      <td>12890.214900</td>\n",
       "      <td>5493.198847</td>\n",
       "    </tr>\n",
       "    <tr>\n",
       "      <th>std</th>\n",
       "      <td>60.284166</td>\n",
       "      <td>216.450227</td>\n",
       "      <td>NaN</td>\n",
       "      <td>NaN</td>\n",
       "      <td>NaN</td>\n",
       "      <td>NaN</td>\n",
       "      <td>NaN</td>\n",
       "      <td>19.935088</td>\n",
       "      <td>0 days 00:21:04.981407536</td>\n",
       "      <td>0 days 00:27:05.789627509</td>\n",
       "      <td>0 days 00:38:15.754102810</td>\n",
       "      <td>0 days 00:38:26.463697935</td>\n",
       "      <td>0 days 00:36:48.779096284</td>\n",
       "      <td>1.160608</td>\n",
       "      <td>NaN</td>\n",
       "      <td>2306.463698</td>\n",
       "      <td>2208.779096</td>\n",
       "    </tr>\n",
       "    <tr>\n",
       "      <th>min</th>\n",
       "      <td>1.0</td>\n",
       "      <td>2001.000000</td>\n",
       "      <td>NaN</td>\n",
       "      <td>NaN</td>\n",
       "      <td>NaN</td>\n",
       "      <td>NaN</td>\n",
       "      <td>NaN</td>\n",
       "      <td>1.0</td>\n",
       "      <td>0 days 01:16:08</td>\n",
       "      <td>0 days 01:30:15</td>\n",
       "      <td>0 days 01:56:45</td>\n",
       "      <td>0 days 01:58:37</td>\n",
       "      <td>0 days 00:02:04</td>\n",
       "      <td>4.000000</td>\n",
       "      <td>NaN</td>\n",
       "      <td>7117.000000</td>\n",
       "      <td>124.0</td>\n",
       "    </tr>\n",
       "    <tr>\n",
       "      <th>25%</th>\n",
       "      <td>44.0</td>\n",
       "      <td>2114.000000</td>\n",
       "      <td>NaN</td>\n",
       "      <td>NaN</td>\n",
       "      <td>NaN</td>\n",
       "      <td>NaN</td>\n",
       "      <td>NaN</td>\n",
       "      <td>12.0</td>\n",
       "      <td>0 days 01:57:22.250000</td>\n",
       "      <td>0 days 02:20:24.750000</td>\n",
       "      <td>0 days 03:03:55</td>\n",
       "      <td>0 days 03:06:16</td>\n",
       "      <td>0 days 01:07:39</td>\n",
       "      <td>5.200000</td>\n",
       "      <td>NaN</td>\n",
       "      <td>11176.000000</td>\n",
       "      <td>4059.0</td>\n",
       "    </tr>\n",
       "    <tr>\n",
       "      <th>50%</th>\n",
       "      <td>88.0</td>\n",
       "      <td>2227.000000</td>\n",
       "      <td>NaN</td>\n",
       "      <td>NaN</td>\n",
       "      <td>NaN</td>\n",
       "      <td>NaN</td>\n",
       "      <td>NaN</td>\n",
       "      <td>24.0</td>\n",
       "      <td>0 days 02:10:47</td>\n",
       "      <td>0 days 02:38:26.500000</td>\n",
       "      <td>0 days 03:31:25</td>\n",
       "      <td>0 days 03:33:57</td>\n",
       "      <td>0 days 01:29:45</td>\n",
       "      <td>5.900000</td>\n",
       "      <td>NaN</td>\n",
       "      <td>12837.000000</td>\n",
       "      <td>5385.0</td>\n",
       "    </tr>\n",
       "    <tr>\n",
       "      <th>75%</th>\n",
       "      <td>135.0</td>\n",
       "      <td>2544.000000</td>\n",
       "      <td>NaN</td>\n",
       "      <td>NaN</td>\n",
       "      <td>NaN</td>\n",
       "      <td>NaN</td>\n",
       "      <td>NaN</td>\n",
       "      <td>42.0</td>\n",
       "      <td>0 days 02:26:22.250000</td>\n",
       "      <td>0 days 02:59:07.500000</td>\n",
       "      <td>0 days 03:58:20</td>\n",
       "      <td>0 days 04:00:44</td>\n",
       "      <td>0 days 01:57:21.500000</td>\n",
       "      <td>6.800000</td>\n",
       "      <td>NaN</td>\n",
       "      <td>14444.000000</td>\n",
       "      <td>7041.5</td>\n",
       "    </tr>\n",
       "    <tr>\n",
       "      <th>max</th>\n",
       "      <td>222.0</td>\n",
       "      <td>2634.000000</td>\n",
       "      <td>NaN</td>\n",
       "      <td>NaN</td>\n",
       "      <td>NaN</td>\n",
       "      <td>NaN</td>\n",
       "      <td>NaN</td>\n",
       "      <td>83.0</td>\n",
       "      <td>0 days 03:16:26</td>\n",
       "      <td>0 days 03:56:26</td>\n",
       "      <td>0 days 05:12:52</td>\n",
       "      <td>0 days 05:16:00</td>\n",
       "      <td>0 days 03:03:07</td>\n",
       "      <td>10.600000</td>\n",
       "      <td>NaN</td>\n",
       "      <td>18960.000000</td>\n",
       "      <td>10987.0</td>\n",
       "    </tr>\n",
       "  </tbody>\n",
       "</table>\n",
       "</div>"
      ],
      "text/plain": [
       "              Pl.          Dos Nationalite           Nom          Club     Sx  \\\n",
       "count       349.0   349.000000         349           349            69    349   \n",
       "unique       <NA>          NaN           8           349            52      3   \n",
       "top          <NA>          NaN         FRA  FICHEUX Enzo  SALÈVE TRAIL  Homme   \n",
       "freq         <NA>          NaN         338             1             6    177   \n",
       "mean      94.2149  2299.435530         NaN           NaN           NaN    NaN   \n",
       "std     60.284166   216.450227         NaN           NaN           NaN    NaN   \n",
       "min           1.0  2001.000000         NaN           NaN           NaN    NaN   \n",
       "25%          44.0  2114.000000         NaN           NaN           NaN    NaN   \n",
       "50%          88.0  2227.000000         NaN           NaN           NaN    NaN   \n",
       "75%         135.0  2544.000000         NaN           NaN           NaN    NaN   \n",
       "max         222.0  2634.000000         NaN           NaN           NaN    NaN   \n",
       "\n",
       "          Cat   Par cat.                  Sous Dine  \\\n",
       "count     349      349.0                        344   \n",
       "unique     10       <NA>                        NaN   \n",
       "top     S-M0H       <NA>                        NaN   \n",
       "freq       83       <NA>                        NaN   \n",
       "mean      NaN  28.017192  0 days 02:11:34.276162790   \n",
       "std       NaN  19.935088  0 days 00:21:04.981407536   \n",
       "min       NaN        1.0            0 days 01:16:08   \n",
       "25%       NaN       12.0     0 days 01:57:22.250000   \n",
       "50%       NaN       24.0            0 days 02:10:47   \n",
       "75%       NaN       42.0     0 days 02:26:22.250000   \n",
       "max       NaN       83.0            0 days 03:16:26   \n",
       "\n",
       "                          Landron                Pré Arrivée  \\\n",
       "count                         346                        345   \n",
       "unique                        NaN                        NaN   \n",
       "top                           NaN                        NaN   \n",
       "freq                          NaN                        NaN   \n",
       "mean    0 days 02:39:49.945086705  0 days 03:32:16.202898550   \n",
       "std     0 days 00:27:05.789627509  0 days 00:38:15.754102810   \n",
       "min               0 days 01:30:15            0 days 01:56:45   \n",
       "25%        0 days 02:20:24.750000            0 days 03:03:55   \n",
       "50%        0 days 02:38:26.500000            0 days 03:31:25   \n",
       "75%        0 days 02:59:07.500000            0 days 03:58:20   \n",
       "max               0 days 03:56:26            0 days 05:12:52   \n",
       "\n",
       "                            Temps                      Ecart         Moy  \\\n",
       "count                         349                        347  349.000000   \n",
       "unique                        NaN                        NaN         NaN   \n",
       "top                           NaN                        NaN         NaN   \n",
       "freq                          NaN                        NaN         NaN   \n",
       "mean    0 days 03:34:50.214899713  0 days 01:31:33.198847262    6.064470   \n",
       "std     0 days 00:38:26.463697935  0 days 00:36:48.779096284    1.160608   \n",
       "min               0 days 01:58:37            0 days 00:02:04    4.000000   \n",
       "25%               0 days 03:06:16            0 days 01:07:39    5.200000   \n",
       "50%               0 days 03:33:57            0 days 01:29:45    5.900000   \n",
       "75%               0 days 04:00:44     0 days 01:57:21.500000    6.800000   \n",
       "max               0 days 05:16:00            0 days 03:03:07   10.600000   \n",
       "\n",
       "        Type     Temps_sec    Ecart_sec  \n",
       "count    349    349.000000        347.0  \n",
       "unique     2           NaN         <NA>  \n",
       "top     solo           NaN         <NA>  \n",
       "freq     222           NaN         <NA>  \n",
       "mean     NaN  12890.214900  5493.198847  \n",
       "std      NaN   2306.463698  2208.779096  \n",
       "min      NaN   7117.000000        124.0  \n",
       "25%      NaN  11176.000000       4059.0  \n",
       "50%      NaN  12837.000000       5385.0  \n",
       "75%      NaN  14444.000000       7041.5  \n",
       "max      NaN  18960.000000      10987.0  "
      ]
     },
     "execution_count": 16,
     "metadata": {},
     "output_type": "execute_result"
    }
   ],
   "source": [
    "df.describe(include='all')"
   ]
  },
  {
   "cell_type": "markdown",
   "metadata": {},
   "source": [
    "## Wrong data"
   ]
  },
  {
   "cell_type": "code",
   "execution_count": 17,
   "metadata": {},
   "outputs": [
    {
     "data": {
      "text/plain": [
       "array([['Homme', 'S-M0H'],\n",
       "       ['Homme', 'M1-5H'],\n",
       "       ['Femme', 'S-M0F'],\n",
       "       ['Femme', 'M1-5F'],\n",
       "       ['Homme', 'FEM'],\n",
       "       ['Femme', 'JEUF'],\n",
       "       ['Homme', 'JEUH'],\n",
       "       ['Homme', 'M6+H'],\n",
       "       ['Homme', 'HOM'],\n",
       "       ['Mixte', 'MX'],\n",
       "       ['Femme', 'FEM']], dtype=object)"
      ]
     },
     "execution_count": 17,
     "metadata": {},
     "output_type": "execute_result"
    }
   ],
   "source": [
    "df[['Sx', 'Cat']].drop_duplicates().values"
   ]
  },
  {
   "cell_type": "code",
   "execution_count": 18,
   "metadata": {},
   "outputs": [
    {
     "data": {
      "text/html": [
       "<div>\n",
       "<style scoped>\n",
       "    .dataframe tbody tr th:only-of-type {\n",
       "        vertical-align: middle;\n",
       "    }\n",
       "\n",
       "    .dataframe tbody tr th {\n",
       "        vertical-align: top;\n",
       "    }\n",
       "\n",
       "    .dataframe thead th {\n",
       "        text-align: right;\n",
       "    }\n",
       "</style>\n",
       "<table border=\"1\" class=\"dataframe\">\n",
       "  <thead>\n",
       "    <tr style=\"text-align: right;\">\n",
       "      <th></th>\n",
       "      <th>Pl.</th>\n",
       "      <th>Dos</th>\n",
       "      <th>Nationalite</th>\n",
       "      <th>Nom</th>\n",
       "      <th>Club</th>\n",
       "      <th>Sx</th>\n",
       "      <th>Cat</th>\n",
       "      <th>Par cat.</th>\n",
       "      <th>Sous Dine</th>\n",
       "      <th>Landron</th>\n",
       "      <th>Pré Arrivée</th>\n",
       "      <th>Temps</th>\n",
       "      <th>Ecart</th>\n",
       "      <th>Moy</th>\n",
       "      <th>Type</th>\n",
       "      <th>Temps_sec</th>\n",
       "      <th>Ecart_sec</th>\n",
       "    </tr>\n",
       "  </thead>\n",
       "  <tbody>\n",
       "    <tr>\n",
       "      <th>12</th>\n",
       "      <td>13</td>\n",
       "      <td>2526</td>\n",
       "      <td>FRA</td>\n",
       "      <td>MERINO Pierrick</td>\n",
       "      <td>NaN</td>\n",
       "      <td>Homme</td>\n",
       "      <td>FEM</td>\n",
       "      <td>1</td>\n",
       "      <td>0 days 01:37:31</td>\n",
       "      <td>0 days 01:56:25</td>\n",
       "      <td>0 days 02:31:37</td>\n",
       "      <td>0 days 02:33:53</td>\n",
       "      <td>0 days 00:35:16</td>\n",
       "      <td>8.2</td>\n",
       "      <td>solo</td>\n",
       "      <td>9233</td>\n",
       "      <td>2116</td>\n",
       "    </tr>\n",
       "  </tbody>\n",
       "</table>\n",
       "</div>"
      ],
      "text/plain": [
       "    Pl.   Dos Nationalite              Nom Club     Sx  Cat  Par cat.  \\\n",
       "12   13  2526         FRA  MERINO Pierrick  NaN  Homme  FEM         1   \n",
       "\n",
       "         Sous Dine         Landron     Pré Arrivée           Temps  \\\n",
       "12 0 days 01:37:31 0 days 01:56:25 0 days 02:31:37 0 days 02:33:53   \n",
       "\n",
       "             Ecart  Moy  Type  Temps_sec  Ecart_sec  \n",
       "12 0 days 00:35:16  8.2  solo       9233       2116  "
      ]
     },
     "execution_count": 18,
     "metadata": {},
     "output_type": "execute_result"
    }
   ],
   "source": [
    "df[(df['Sx'] == 'Homme') & (df['Cat'] == 'FEM')]"
   ]
  },
  {
   "cell_type": "markdown",
   "metadata": {},
   "source": [
    "Cat seems to be wrong. Instead of FEM we will replace with the most common Cat for Sx = Homme"
   ]
  },
  {
   "cell_type": "code",
   "execution_count": 19,
   "metadata": {},
   "outputs": [],
   "source": [
    "# Find the most common Cat for Sx = 'Homme'\n",
    "most_common_cat = df.loc[df['Sx'] == 'Homme', 'Cat'].mode()[0]\n",
    "\n",
    "# Replace 'FEM' with the most common Cat for Homme\n",
    "df.loc[(df['Sx'] == 'Homme') & (df['Cat'] == 'FEM'), 'Cat'] = most_common_cat"
   ]
  },
  {
   "cell_type": "markdown",
   "metadata": {},
   "source": [
    "# Save data file"
   ]
  },
  {
   "cell_type": "code",
   "execution_count": 20,
   "metadata": {},
   "outputs": [],
   "source": [
    "df.to_csv('df.csv', index=False) "
   ]
  },
  {
   "cell_type": "markdown",
   "metadata": {},
   "source": [
    "# Graphs"
   ]
  },
  {
   "cell_type": "code",
   "execution_count": 21,
   "metadata": {},
   "outputs": [],
   "source": [
    "TYPE_COLORS = {\n",
    "    \"duo\": \"#48494B\", \n",
    "    \"solo\": \"#999DA0\"\n",
    "    }\n",
    "\n",
    "GENDER_COLORS = {\n",
    "    \"Homme\": \"#4169E1\", \n",
    "    \"Femme\": \"#FF69B4\", \n",
    "    \"Mixte\": \"#a6d854\"\n",
    "    }\n",
    "\n",
    "TYPE_GENDER_COLORS = {\n",
    "    (\"duo\", \"Mixte\"): \"#a6d854\",\n",
    "    (\"duo\", \"Femme\"): \"#e78ac3\",\n",
    "    (\"duo\", \"Homme\"): \"#8da0cb\",\n",
    "    (\"solo\", \"Mixte\"): \"#a6d854\",\n",
    "    (\"solo\", \"Femme\"): \"#f7cde3\",\n",
    "    (\"solo\", \"Homme\"): \"#c3cee5\"\n",
    "}\n",
    "\n",
    "CATEGORY_COLORS = {\n",
    "    \"MX\": \"#a6d854\",\n",
    "    \"FEM\": \"#e78ac3\",\n",
    "    \"HOM\": \"#8da0cb\",\n",
    "    \"JEUF\": \"#f7cde3\",\n",
    "    \"S-M0F\": \"#f7cde3\",\n",
    "    \"M1-5F\": \"#f7cde3\",\n",
    "    \"JEUH\": \"#c3cee5\",\n",
    "    \"S-M0H\": \"#c3cee5\",\n",
    "    \"M1-5H\": \"#c3cee5\",\n",
    "    \"M6+H\": \"#c3cee5\"\n",
    "    }"
   ]
  },
  {
   "cell_type": "code",
   "execution_count": 22,
   "metadata": {},
   "outputs": [],
   "source": [
    "type_order = [\"duo\", \"solo\"]\n",
    "solo_order = [\"JEUH\", \"S-M0H\", \"M1-5H\", \"M6+H\", \"JEUF\", \"S-M0F\", \"M1-5F\"]\n",
    "duo_order = [\"HOM\", \"MX\", \"FEM\"]\n",
    "cat_order = solo_order + duo_order"
   ]
  },
  {
   "cell_type": "code",
   "execution_count": 23,
   "metadata": {},
   "outputs": [],
   "source": [
    "def plot_bar(data, x, y, palette, xlabel, title, ax=None):\n",
    "    if ax is None:\n",
    "        fig, ax = plt.subplots(figsize=(10, 5))\n",
    "    sns.barplot(data=data, x=x, y=y, palette=palette, ax=ax)\n",
    "    \n",
    "    # Style\n",
    "    sns.despine(bottom=True, left=True)\n",
    "    ax.set_xlabel(xlabel)\n",
    "    ax.set_title(title)\n",
    "    ax.yaxis.set_visible(False)\n",
    "    \n",
    "    # Annotate bars\n",
    "    for p in ax.patches:\n",
    "        ax.annotate(f'{p.get_height():.1%}', (p.get_x() + p.get_width() / 2, p.get_height() + 0.02), ha='center', va='center')\n",
    "    \n",
    "    plt.tight_layout()\n",
    "    plt.show()"
   ]
  },
  {
   "cell_type": "code",
   "execution_count": 24,
   "metadata": {},
   "outputs": [],
   "source": [
    "def plot_box(data, x, y, palette, xlabel, ylabel, title, highlight_id=None, highlight_color=\"red\", highlight_marker=\".\", ax=None, order=None):\n",
    "    if ax is None:\n",
    "        fig, ax = plt.subplots(figsize=(10, 6))\n",
    "    sns.boxplot(data=data, x=x, y=y, palette=palette, ax=ax, order=order)\n",
    "\n",
    "    # Ajout du point à surligner (si fourni)\n",
    "    if highlight_id is not None:\n",
    "        sns.stripplot(\n",
    "            data=data[data[\"Dos\"] == highlight_id],\n",
    "            x=x,\n",
    "            y=y,\n",
    "            color=highlight_color,\n",
    "            marker=highlight_marker,\n",
    "            size=6,\n",
    "            ax=ax,\n",
    "            label=f\"Dossard {highlight_id}\"\n",
    "        )\n",
    "    # Format axe Y en hh:mm:ss\n",
    "    ax.yaxis.set_major_formatter(ticker.FuncFormatter(lambda x, pos: str(datetime.timedelta(seconds=int(x)))))\n",
    "\n",
    "    # Style\n",
    "    sns.despine(bottom=True, left=True)\n",
    "    ax.set_xlabel(xlabel, fontsize=12)\n",
    "    ax.set_ylabel(ylabel, fontsize=12)\n",
    "    ax.set_title(title, fontsize=14, fontweight='bold')\n",
    "\n",
    "    # Legend\n",
    "    ax.legend(loc='upper center', frameon=False)\n",
    "\n",
    "    plt.tight_layout()\n",
    "    plt.show()"
   ]
  },
  {
   "cell_type": "markdown",
   "metadata": {},
   "source": [
    "# 1. Analyse de la Participation"
   ]
  },
  {
   "cell_type": "markdown",
   "metadata": {},
   "source": [
    "## Par Nationalité"
   ]
  },
  {
   "cell_type": "code",
   "execution_count": 25,
   "metadata": {},
   "outputs": [
    {
     "data": {
      "text/html": [
       "<div>\n",
       "<style scoped>\n",
       "    .dataframe tbody tr th:only-of-type {\n",
       "        vertical-align: middle;\n",
       "    }\n",
       "\n",
       "    .dataframe tbody tr th {\n",
       "        vertical-align: top;\n",
       "    }\n",
       "\n",
       "    .dataframe thead th {\n",
       "        text-align: right;\n",
       "    }\n",
       "</style>\n",
       "<table border=\"1\" class=\"dataframe\">\n",
       "  <thead>\n",
       "    <tr style=\"text-align: right;\">\n",
       "      <th></th>\n",
       "      <th>Nationalite</th>\n",
       "      <th>distribution</th>\n",
       "    </tr>\n",
       "  </thead>\n",
       "  <tbody>\n",
       "    <tr>\n",
       "      <th>0</th>\n",
       "      <td>FRA</td>\n",
       "      <td>0.968481</td>\n",
       "    </tr>\n",
       "    <tr>\n",
       "      <th>1</th>\n",
       "      <td>SUI</td>\n",
       "      <td>0.011461</td>\n",
       "    </tr>\n",
       "    <tr>\n",
       "      <th>2</th>\n",
       "      <td>GBR</td>\n",
       "      <td>0.005731</td>\n",
       "    </tr>\n",
       "    <tr>\n",
       "      <th>3</th>\n",
       "      <td>GER</td>\n",
       "      <td>0.002865</td>\n",
       "    </tr>\n",
       "    <tr>\n",
       "      <th>4</th>\n",
       "      <td>SWE</td>\n",
       "      <td>0.002865</td>\n",
       "    </tr>\n",
       "    <tr>\n",
       "      <th>5</th>\n",
       "      <td>ESP</td>\n",
       "      <td>0.002865</td>\n",
       "    </tr>\n",
       "    <tr>\n",
       "      <th>6</th>\n",
       "      <td>POL</td>\n",
       "      <td>0.002865</td>\n",
       "    </tr>\n",
       "    <tr>\n",
       "      <th>7</th>\n",
       "      <td>BRA</td>\n",
       "      <td>0.002865</td>\n",
       "    </tr>\n",
       "  </tbody>\n",
       "</table>\n",
       "</div>"
      ],
      "text/plain": [
       "  Nationalite  distribution\n",
       "0         FRA      0.968481\n",
       "1         SUI      0.011461\n",
       "2         GBR      0.005731\n",
       "3         GER      0.002865\n",
       "4         SWE      0.002865\n",
       "5         ESP      0.002865\n",
       "6         POL      0.002865\n",
       "7         BRA      0.002865"
      ]
     },
     "execution_count": 25,
     "metadata": {},
     "output_type": "execute_result"
    }
   ],
   "source": [
    "df_nationalite = df.Nationalite.value_counts(normalize=True).to_frame(\"distribution\").reset_index()\n",
    "df_nationalite"
   ]
  },
  {
   "cell_type": "code",
   "execution_count": 26,
   "metadata": {},
   "outputs": [
    {
     "data": {
      "image/png": "[encoded data removed]",
      "text/plain": [
       "<Figure size 1000x500 with 1 Axes>"
      ]
     },
     "metadata": {},
     "output_type": "display_data"
    }
   ],
   "source": [
    "# Clean and consistent bar plot for nationality\n",
    "plot_bar(\n",
    "    data=df_nationalite,\n",
    "    x=\"Nationalite\",\n",
    "    y=\"distribution\",\n",
    "    palette=\"Set2\",\n",
    "    xlabel=\"Nationality\",\n",
    "    title=\"Distribution by nationality\"\n",
    ")"
   ]
  },
  {
   "cell_type": "markdown",
   "metadata": {},
   "source": [
    "## Par Type solo / duo"
   ]
  },
  {
   "cell_type": "code",
   "execution_count": 27,
   "metadata": {},
   "outputs": [
    {
     "data": {
      "text/html": [
       "<div>\n",
       "<style scoped>\n",
       "    .dataframe tbody tr th:only-of-type {\n",
       "        vertical-align: middle;\n",
       "    }\n",
       "\n",
       "    .dataframe tbody tr th {\n",
       "        vertical-align: top;\n",
       "    }\n",
       "\n",
       "    .dataframe thead th {\n",
       "        text-align: right;\n",
       "    }\n",
       "</style>\n",
       "<table border=\"1\" class=\"dataframe\">\n",
       "  <thead>\n",
       "    <tr style=\"text-align: right;\">\n",
       "      <th></th>\n",
       "      <th>Type</th>\n",
       "      <th>distribution</th>\n",
       "    </tr>\n",
       "  </thead>\n",
       "  <tbody>\n",
       "    <tr>\n",
       "      <th>0</th>\n",
       "      <td>solo</td>\n",
       "      <td>0.636103</td>\n",
       "    </tr>\n",
       "    <tr>\n",
       "      <th>1</th>\n",
       "      <td>duo</td>\n",
       "      <td>0.363897</td>\n",
       "    </tr>\n",
       "  </tbody>\n",
       "</table>\n",
       "</div>"
      ],
      "text/plain": [
       "   Type  distribution\n",
       "0  solo      0.636103\n",
       "1   duo      0.363897"
      ]
     },
     "execution_count": 27,
     "metadata": {},
     "output_type": "execute_result"
    }
   ],
   "source": [
    "df_type = df.Type.value_counts(normalize=True).to_frame(\"distribution\").reset_index()\n",
    "df_type"
   ]
  },
  {
   "cell_type": "code",
   "execution_count": 28,
   "metadata": {},
   "outputs": [
    {
     "data": {
      "image/png": "[encoded data removed]",
      "text/plain": [
       "<Figure size 1000x500 with 1 Axes>"
      ]
     },
     "metadata": {},
     "output_type": "display_data"
    }
   ],
   "source": [
    "# Plot\n",
    "plot_bar(\n",
    "    data=df_type,\n",
    "    x=\"Type\",\n",
    "    y=\"distribution\",\n",
    "    palette=TYPE_COLORS,\n",
    "    xlabel=\"Type\",\n",
    "    title=\"Distribution by type\"\n",
    ")"
   ]
  },
  {
   "cell_type": "markdown",
   "metadata": {},
   "source": [
    "## Par Sexe"
   ]
  },
  {
   "cell_type": "code",
   "execution_count": 29,
   "metadata": {},
   "outputs": [
    {
     "data": {
      "text/html": [
       "<div>\n",
       "<style scoped>\n",
       "    .dataframe tbody tr th:only-of-type {\n",
       "        vertical-align: middle;\n",
       "    }\n",
       "\n",
       "    .dataframe tbody tr th {\n",
       "        vertical-align: top;\n",
       "    }\n",
       "\n",
       "    .dataframe thead th {\n",
       "        text-align: right;\n",
       "    }\n",
       "</style>\n",
       "<table border=\"1\" class=\"dataframe\">\n",
       "  <thead>\n",
       "    <tr style=\"text-align: right;\">\n",
       "      <th></th>\n",
       "      <th>Sx</th>\n",
       "      <th>distribution</th>\n",
       "    </tr>\n",
       "  </thead>\n",
       "  <tbody>\n",
       "    <tr>\n",
       "      <th>0</th>\n",
       "      <td>Homme</td>\n",
       "      <td>0.507163</td>\n",
       "    </tr>\n",
       "    <tr>\n",
       "      <th>1</th>\n",
       "      <td>Femme</td>\n",
       "      <td>0.315186</td>\n",
       "    </tr>\n",
       "    <tr>\n",
       "      <th>2</th>\n",
       "      <td>Mixte</td>\n",
       "      <td>0.177650</td>\n",
       "    </tr>\n",
       "  </tbody>\n",
       "</table>\n",
       "</div>"
      ],
      "text/plain": [
       "      Sx  distribution\n",
       "0  Homme      0.507163\n",
       "1  Femme      0.315186\n",
       "2  Mixte      0.177650"
      ]
     },
     "execution_count": 29,
     "metadata": {},
     "output_type": "execute_result"
    }
   ],
   "source": [
    "df_sexe = df.Sx.value_counts(normalize=True).to_frame(\"distribution\").reset_index()\n",
    "df_sexe"
   ]
  },
  {
   "cell_type": "code",
   "execution_count": 30,
   "metadata": {},
   "outputs": [
    {
     "data": {
      "image/png": "[encoded data removed]",
      "text/plain": [
       "<Figure size 1000x500 with 1 Axes>"
      ]
     },
     "metadata": {},
     "output_type": "display_data"
    }
   ],
   "source": [
    "# Plot\n",
    "plot_bar(\n",
    "    data=df_sexe,\n",
    "    x=\"Sx\",\n",
    "    y=\"distribution\",\n",
    "    palette=GENDER_COLORS,  # déjà défini plus haut\n",
    "    xlabel=\"Genre\",\n",
    "    title=\"Distribution par genre\"\n",
    ")"
   ]
  },
  {
   "cell_type": "markdown",
   "metadata": {},
   "source": [
    "## Par Type et Catégorie "
   ]
  },
  {
   "cell_type": "code",
   "execution_count": 31,
   "metadata": {},
   "outputs": [],
   "source": [
    "# Distribution of categories by type\n",
    "df_type_categorie = (\n",
    "    df.groupby('Type')['Cat']\n",
    "      .value_counts(normalize=True)\n",
    "      .rename('distribution')\n",
    "      .reset_index()\n",
    ")"
   ]
  },
  {
   "cell_type": "code",
   "execution_count": 32,
   "metadata": {},
   "outputs": [
    {
     "data": {
      "image/png": "[encoded data removed]",
      "text/plain": [
       "<Figure size 1000x600 with 1 Axes>"
      ]
     },
     "metadata": {},
     "output_type": "display_data"
    }
   ],
   "source": [
    "fig, ax = plt.subplots(figsize=(10, 6))\n",
    "\n",
    "sns.barplot(\n",
    "    data=df_type_categorie,\n",
    "    x=\"Cat\",\n",
    "    y=\"distribution\",\n",
    "    hue=\"Type\",\n",
    "    hue_order=type_order,\n",
    "    palette=[\"#cccccc\", \"#bbbbbb\"],  # temporaire, on recolore après\n",
    "    ax=ax,\n",
    "    dodge=True\n",
    ")\n",
    "\n",
    "# Recolorie chaque barre selon la catégorie\n",
    "palette_categorie = df_type_categorie[\"Cat\"].map(CATEGORY_COLORS).tolist()\n",
    "\n",
    "for bar, color in zip(ax.patches, palette_categorie):\n",
    "    bar.set_facecolor(color)\n",
    "\n",
    "# Axes\n",
    "sns.despine(bottom=True, left=True)\n",
    "ax.set_xlabel(\"Catégorie\", fontsize=12)\n",
    "ax.set_ylabel(\"Distribution (%)\", fontsize=12)\n",
    "ax.set_yticks([]) \n",
    "ax.set_title(\"Répartition des types par catégorie\", fontsize=14, fontweight='bold')\n",
    "\n",
    "# Annoter les barres\n",
    "for p in ax.patches:\n",
    "    height = p.get_height()\n",
    "    if not np.isnan(height) and height > 0:\n",
    "        ax.annotate(f'{height:.1%}',\n",
    "                    (p.get_x() + p.get_width() / 2, height + 0.005),\n",
    "                    ha='center', va='bottom', fontsize=10, color='black')\n",
    "\n",
    "# Legend\n",
    "legend_elements = [\n",
    "    Patch(facecolor=TYPE_COLORS[\"duo\"], label=\"duo\"),\n",
    "    Patch(facecolor=TYPE_COLORS[\"solo\"], label=\"solo\")\n",
    "]\n",
    "ax.legend(handles=legend_elements, title=\"Type\", title_fontsize=11, fontsize=10, loc='upper right', frameon=False)\n",
    "\n",
    "plt.tight_layout()\n",
    "plt.show()"
   ]
  },
  {
   "cell_type": "markdown",
   "metadata": {},
   "source": [
    "## Par Type et Sexe "
   ]
  },
  {
   "cell_type": "code",
   "execution_count": 33,
   "metadata": {},
   "outputs": [],
   "source": [
    "df_type_sexe = (\n",
    "    df.groupby('Type')['Sx']\n",
    "      .value_counts(normalize=True)\n",
    "      .rename('distribution')\n",
    "      .reset_index()\n",
    ")"
   ]
  },
  {
   "cell_type": "code",
   "execution_count": 34,
   "metadata": {},
   "outputs": [
    {
     "data": {
      "image/png": "[encoded data removed]",
      "text/plain": [
       "<Figure size 1000x600 with 1 Axes>"
      ]
     },
     "metadata": {},
     "output_type": "display_data"
    }
   ],
   "source": [
    "fig, ax = plt.subplots(figsize=(10, 6))\n",
    "\n",
    "sns.barplot(\n",
    "    data=df_type_sexe,\n",
    "    x=\"Sx\",\n",
    "    y=\"distribution\",\n",
    "    hue=\"Type\",\n",
    "    hue_order=type_order,\n",
    "    dodge=True,\n",
    "    ax=ax,\n",
    "    palette=[\"#cccccc\", \"#bbbbbb\"]  # placeholder\n",
    ")\n",
    "\n",
    "# Recoloration manuelle des barres\n",
    "df_type_sexe[\"color\"] = df_type_sexe.apply(lambda row: TYPE_GENDER_COLORS.get((row[\"Type\"], row[\"Sx\"])), axis=1)\n",
    "palette = df_type_sexe[\"color\"].tolist()\n",
    "\n",
    "for bar, color in zip(ax.patches, palette):\n",
    "    bar.set_facecolor(color)\n",
    "\n",
    "# Style\n",
    "sns.despine(bottom=True, left=True)\n",
    "ax.set_xlabel(\"Sexe\", fontsize=12)\n",
    "ax.set_ylabel(\"Distribution (%)\", fontsize=12)\n",
    "ax.set_title(\"Répartition des types par sexe\", fontsize=14, fontweight='bold')\n",
    "ax.set_yticks([])\n",
    "\n",
    "# Annoter les barres\n",
    "for p in ax.patches:\n",
    "    height = p.get_height()\n",
    "    if not np.isnan(height) and height > 0:\n",
    "        ax.annotate(f'{height:.1%}',\n",
    "                    (p.get_x() + p.get_width() / 2, height + 0.01),\n",
    "                    ha='center', va='bottom', fontsize=10, color='black')\n",
    "\n",
    "# Legend\n",
    "legend_elements = [\n",
    "    Patch(facecolor=TYPE_COLORS[\"duo\"], label=\"duo\"),\n",
    "    Patch(facecolor=TYPE_COLORS[\"solo\"], label=\"solo\")\n",
    "]\n",
    "ax.legend(\n",
    "    handles=legend_elements,\n",
    "    title=\"Type\",\n",
    "    title_fontsize=11,\n",
    "    fontsize=10,\n",
    "    loc='upper center',\n",
    "    bbox_to_anchor=(0.5, 0.98),\n",
    "    ncol=2,\n",
    "    frameon=False\n",
    ")\n",
    "\n",
    "plt.tight_layout()\n",
    "plt.show()"
   ]
  },
  {
   "cell_type": "markdown",
   "metadata": {},
   "source": [
    "# 2. Analyse des Performances"
   ]
  },
  {
   "cell_type": "markdown",
   "metadata": {},
   "source": [
    "## Général"
   ]
  },
  {
   "cell_type": "code",
   "execution_count": 35,
   "metadata": {},
   "outputs": [
    {
     "data": {
      "image/png": "[encoded data removed]",
      "text/plain": [
       "<Figure size 600x700 with 1 Axes>"
      ]
     },
     "metadata": {},
     "output_type": "display_data"
    },
    {
     "data": {
      "text/plain": [
       "<Figure size 640x480 with 0 Axes>"
      ]
     },
     "metadata": {},
     "output_type": "display_data"
    }
   ],
   "source": [
    "df[\"Finishers\"] = \"Finishers\"\n",
    "\n",
    "fig, ax = plt.subplots(figsize=(6, 7))\n",
    "\n",
    "plot_box(\n",
    "    data=df,\n",
    "    x=\"Finishers\",\n",
    "    y=\"Temps_sec\",\n",
    "    palette={\"Finishers\": \"#8da0cb\"},\n",
    "    xlabel=\"\",\n",
    "    ylabel=\"Temps (hh:mm:ss)\",\n",
    "    title=\"Distribution des temps de course (tous participants confondus)\",\n",
    "    highlight_id=2625,\n",
    "    ax=ax\n",
    ")\n",
    "\n",
    "ax.set_xticks([])\n",
    "ax.grid(axis='y', linestyle='--', alpha=0.5)\n",
    "\n",
    "plt.tight_layout()\n",
    "plt.show()"
   ]
  },
  {
   "cell_type": "markdown",
   "metadata": {},
   "source": [
    "## Par Nationalité"
   ]
  },
  {
   "cell_type": "code",
   "execution_count": 36,
   "metadata": {},
   "outputs": [
    {
     "data": {
      "image/png": "[encoded data removed]",
      "text/plain": [
       "<Figure size 1000x600 with 1 Axes>"
      ]
     },
     "metadata": {},
     "output_type": "display_data"
    }
   ],
   "source": [
    "plot_box(\n",
    "    data=df,\n",
    "    x=\"Nationalite\",\n",
    "    y=\"Temps_sec\",\n",
    "    palette=\"Set2\",\n",
    "    xlabel=\"Nationalité\",\n",
    "    ylabel=\"Temps (hh:mm:ss)\",\n",
    "    title=\"Distribution des temps de course par nationalité\",\n",
    "    highlight_id=2625\n",
    ")"
   ]
  },
  {
   "cell_type": "markdown",
   "metadata": {},
   "source": [
    "## Par Type solo / duo"
   ]
  },
  {
   "cell_type": "code",
   "execution_count": 37,
   "metadata": {},
   "outputs": [
    {
     "data": {
      "image/png": "[encoded data removed]",
      "text/plain": [
       "<Figure size 1000x600 with 1 Axes>"
      ]
     },
     "metadata": {},
     "output_type": "display_data"
    }
   ],
   "source": [
    "plot_box(\n",
    "    data=df,\n",
    "    x=\"Type\",\n",
    "    y=\"Temps_sec\",\n",
    "    palette=TYPE_COLORS,\n",
    "    xlabel=\"Type\",\n",
    "    ylabel=\"Temps (hh:mm:ss)\",\n",
    "    title=\"Distribution des temps de course par type\",\n",
    "    highlight_id=2625\n",
    ")"
   ]
  },
  {
   "cell_type": "markdown",
   "metadata": {},
   "source": [
    "## Par Sexe"
   ]
  },
  {
   "cell_type": "code",
   "execution_count": 38,
   "metadata": {},
   "outputs": [
    {
     "data": {
      "image/png": "[encoded data removed]",
      "text/plain": [
       "<Figure size 1000x600 with 1 Axes>"
      ]
     },
     "metadata": {},
     "output_type": "display_data"
    }
   ],
   "source": [
    "plot_box(\n",
    "    data=df,\n",
    "    x=\"Sx\",\n",
    "    y=\"Temps_sec\",\n",
    "    palette=GENDER_COLORS,\n",
    "    xlabel=\"Sexe\",\n",
    "    ylabel=\"Temps (hh:mm:ss)\",\n",
    "    title=\"Comparaison des temps de course par sexe\",\n",
    "    highlight_id=2625\n",
    ")"
   ]
  },
  {
   "cell_type": "markdown",
   "metadata": {},
   "source": [
    "## Par Type et Catégorie"
   ]
  },
  {
   "cell_type": "code",
   "execution_count": 39,
   "metadata": {},
   "outputs": [
    {
     "data": {
      "image/png": "[encoded data removed]",
      "text/plain": [
       "<Figure size 1000x600 with 1 Axes>"
      ]
     },
     "metadata": {},
     "output_type": "display_data"
    }
   ],
   "source": [
    "plot_box(\n",
    "    data=df,\n",
    "    x=\"Cat\",\n",
    "    y=\"Temps_sec\",\n",
    "    palette=CATEGORY_COLORS,\n",
    "    xlabel=\"Catégorie\",\n",
    "    ylabel=\"Temps (hh:mm:ss)\",\n",
    "    title=\"Comparaison des temps de course par catégorie\",\n",
    "    highlight_id=2625,\n",
    "    ax=None,\n",
    "    order=cat_order\n",
    ")"
   ]
  },
  {
   "cell_type": "markdown",
   "metadata": {},
   "source": [
    "## Par Type et Sexe"
   ]
  },
  {
   "cell_type": "code",
   "execution_count": 40,
   "metadata": {},
   "outputs": [],
   "source": [
    "df[\"Type_Sx\"] = df[\"Type\"] + \" \" + df[\"Sx\"]\n",
    "\n",
    "color_map = {\n",
    "    f\"{type_} {sx}\": color\n",
    "    for (type_, sx), color in TYPE_GENDER_COLORS.items()\n",
    "    if f\"{type_} {sx}\" in df[\"Type_Sx\"].unique()\n",
    "}\n",
    "\n",
    "order = [x for x in [\n",
    "    \"duo Homme\", \"duo Femme\", \"duo Mixte\",\n",
    "    \"solo Homme\", \"solo Femme\"\n",
    "] if x in df[\"Type_Sx\"].unique()]"
   ]
  },
  {
   "cell_type": "code",
   "execution_count": 41,
   "metadata": {},
   "outputs": [
    {
     "data": {
      "image/png": "[encoded data removed]",
      "text/plain": [
       "<Figure size 1000x600 with 1 Axes>"
      ]
     },
     "metadata": {},
     "output_type": "display_data"
    }
   ],
   "source": [
    "plot_box(\n",
    "    data=df,\n",
    "    x=\"Type_Sx\",\n",
    "    y=\"Temps_sec\",\n",
    "    palette=color_map,\n",
    "    xlabel=\"Type et Sexe\",\n",
    "    ylabel=\"Temps (hh:mm:ss)\",\n",
    "    title=\"Distribution des temps de course par Type et Sexe\",\n",
    "    highlight_id=2625,\n",
    "    order=order\n",
    ")"
   ]
  }
 ],
 "metadata": {
  "kernelspec": {
   "display_name": "trail-glieres-2025-cGDmmfqf-py3.12",
   "language": "python",
   "name": "python3"
  },
  "language_info": {
   "codemirror_mode": {
    "name": "ipython",
    "version": 3
   },
   "file_extension": ".py",
   "mimetype": "text/x-python",
   "name": "python",
   "nbconvert_exporter": "python",
   "pygments_lexer": "ipython3",
   "version": "3.12.11"
  }
 },
 "nbformat": 4,
 "nbformat_minor": 2
}
